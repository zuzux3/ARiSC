{
 "cells": [
  {
   "cell_type": "markdown",
   "metadata": {},
   "source": [
    "# Imports"
   ]
  },
  {
   "cell_type": "code",
   "execution_count": 30,
   "metadata": {},
   "outputs": [],
   "source": [
    "import gymnasium as gym\n",
    "from gymnasium.wrappers import AtariPreprocessing, FrameStack\n",
    "from stable_baselines3 import DQN\n",
    "from stable_baselines3.common.vec_env import DummyVecEnv\n",
    "from stable_baselines3.common.vec_env import DummyVecEnv, VecVideoRecorder\n",
    "from stable_baselines3.common.monitor import Monitor\n"
   ]
  },
  {
   "cell_type": "markdown",
   "metadata": {},
   "source": [
    "# Define Wrappers"
   ]
  },
  {
   "cell_type": "code",
   "execution_count": 31,
   "metadata": {},
   "outputs": [],
   "source": [
    "def makeEnv(envId: str, renderMode = None):\n",
    "    env = gym.make(envId, render_mode=renderMode)\n",
    "    env = AtariPreprocessing(env, frame_skip=1, scale_obs=True)\n",
    "    env = FrameStack(env, 4)\n",
    "    \n",
    "    return env"
   ]
  },
  {
   "cell_type": "code",
   "execution_count": 32,
   "metadata": {},
   "outputs": [],
   "source": [
    "envId = 'ALE/Zaxxon-v5'\n",
    "env = DummyVecEnv([lambda: makeEnv(envId)])"
   ]
  },
  {
   "cell_type": "markdown",
   "metadata": {},
   "source": [
    "# DQN Model Training"
   ]
  },
  {
   "cell_type": "code",
   "execution_count": 33,
   "metadata": {},
   "outputs": [
    {
     "name": "stdout",
     "output_type": "stream",
     "text": [
      "Using cpu device\n"
     ]
    },
    {
     "name": "stderr",
     "output_type": "stream",
     "text": [
      "/Users/zuzux/Documents/Uni/Labs/ARiSC/Lab3/arisc-lab3/lib/python3.11/site-packages/stable_baselines3/common/buffers.py:241: UserWarning: This system does not have apparently enough memory to store the complete replay buffer 2.26GB > 1.58GB\n",
      "  warnings.warn(\n"
     ]
    },
    {
     "name": "stdout",
     "output_type": "stream",
     "text": [
      "----------------------------------\n",
      "| rollout/            |          |\n",
      "|    exploration_rate | 0.313    |\n",
      "| time/               |          |\n",
      "|    episodes         | 4        |\n",
      "|    fps              | 519      |\n",
      "|    time_elapsed     | 6        |\n",
      "|    total_timesteps  | 3472     |\n",
      "| train/              |          |\n",
      "|    learning_rate    | 0.0001   |\n",
      "|    loss             | 0.000208 |\n",
      "|    n_updates        | 617      |\n",
      "----------------------------------\n",
      "----------------------------------\n",
      "| rollout/            |          |\n",
      "|    exploration_rate | 0.01     |\n",
      "| time/               |          |\n",
      "|    episodes         | 8        |\n",
      "|    fps              | 418      |\n",
      "|    time_elapsed     | 16       |\n",
      "|    total_timesteps  | 6964     |\n",
      "| train/              |          |\n",
      "|    learning_rate    | 0.0001   |\n",
      "|    loss             | 8.32e-05 |\n",
      "|    n_updates        | 1490     |\n",
      "----------------------------------\n",
      "----------------------------------\n",
      "| rollout/            |          |\n",
      "|    exploration_rate | 0.01     |\n",
      "| time/               |          |\n",
      "|    episodes         | 12       |\n",
      "|    fps              | 392      |\n",
      "|    time_elapsed     | 26       |\n",
      "|    total_timesteps  | 10514    |\n",
      "| train/              |          |\n",
      "|    learning_rate    | 0.0001   |\n",
      "|    loss             | 0.000101 |\n",
      "|    n_updates        | 2378     |\n",
      "----------------------------------\n",
      "----------------------------------\n",
      "| rollout/            |          |\n",
      "|    exploration_rate | 0.01     |\n",
      "| time/               |          |\n",
      "|    episodes         | 16       |\n",
      "|    fps              | 378      |\n",
      "|    time_elapsed     | 37       |\n",
      "|    total_timesteps  | 14092    |\n",
      "| train/              |          |\n",
      "|    learning_rate    | 0.0001   |\n",
      "|    loss             | 4.51e-05 |\n",
      "|    n_updates        | 3272     |\n",
      "----------------------------------\n",
      "----------------------------------\n",
      "| rollout/            |          |\n",
      "|    exploration_rate | 0.01     |\n",
      "| time/               |          |\n",
      "|    episodes         | 20       |\n",
      "|    fps              | 368      |\n",
      "|    time_elapsed     | 47       |\n",
      "|    total_timesteps  | 17589    |\n",
      "| train/              |          |\n",
      "|    learning_rate    | 0.0001   |\n",
      "|    loss             | 0.000318 |\n",
      "|    n_updates        | 4147     |\n",
      "----------------------------------\n",
      "----------------------------------\n",
      "| rollout/            |          |\n",
      "|    exploration_rate | 0.01     |\n",
      "| time/               |          |\n",
      "|    episodes         | 24       |\n",
      "|    fps              | 365      |\n",
      "|    time_elapsed     | 57       |\n",
      "|    total_timesteps  | 21128    |\n",
      "| train/              |          |\n",
      "|    learning_rate    | 0.0001   |\n",
      "|    loss             | 0.00044  |\n",
      "|    n_updates        | 5031     |\n",
      "----------------------------------\n",
      "----------------------------------\n",
      "| rollout/            |          |\n",
      "|    exploration_rate | 0.01     |\n",
      "| time/               |          |\n",
      "|    episodes         | 28       |\n",
      "|    fps              | 363      |\n",
      "|    time_elapsed     | 68       |\n",
      "|    total_timesteps  | 25050    |\n",
      "| train/              |          |\n",
      "|    learning_rate    | 0.0001   |\n",
      "|    loss             | 0.000104 |\n",
      "|    n_updates        | 6012     |\n",
      "----------------------------------\n",
      "----------------------------------\n",
      "| rollout/            |          |\n",
      "|    exploration_rate | 0.01     |\n",
      "| time/               |          |\n",
      "|    episodes         | 32       |\n",
      "|    fps              | 358      |\n",
      "|    time_elapsed     | 79       |\n",
      "|    total_timesteps  | 28565    |\n",
      "| train/              |          |\n",
      "|    learning_rate    | 0.0001   |\n",
      "|    loss             | 0.0043   |\n",
      "|    n_updates        | 6891     |\n",
      "----------------------------------\n",
      "----------------------------------\n",
      "| rollout/            |          |\n",
      "|    exploration_rate | 0.01     |\n",
      "| time/               |          |\n",
      "|    episodes         | 36       |\n",
      "|    fps              | 357      |\n",
      "|    time_elapsed     | 89       |\n",
      "|    total_timesteps  | 32064    |\n",
      "| train/              |          |\n",
      "|    learning_rate    | 0.0001   |\n",
      "|    loss             | 0.000512 |\n",
      "|    n_updates        | 7765     |\n",
      "----------------------------------\n",
      "----------------------------------\n",
      "| rollout/            |          |\n",
      "|    exploration_rate | 0.01     |\n",
      "| time/               |          |\n",
      "|    episodes         | 40       |\n",
      "|    fps              | 356      |\n",
      "|    time_elapsed     | 100      |\n",
      "|    total_timesteps  | 35659    |\n",
      "| train/              |          |\n",
      "|    learning_rate    | 0.0001   |\n",
      "|    loss             | 0.00185  |\n",
      "|    n_updates        | 8664     |\n",
      "----------------------------------\n",
      "----------------------------------\n",
      "| rollout/            |          |\n",
      "|    exploration_rate | 0.01     |\n",
      "| time/               |          |\n",
      "|    episodes         | 44       |\n",
      "|    fps              | 354      |\n",
      "|    time_elapsed     | 110      |\n",
      "|    total_timesteps  | 39136    |\n",
      "| train/              |          |\n",
      "|    learning_rate    | 0.0001   |\n",
      "|    loss             | 0.00013  |\n",
      "|    n_updates        | 9533     |\n",
      "----------------------------------\n",
      "----------------------------------\n",
      "| rollout/            |          |\n",
      "|    exploration_rate | 0.01     |\n",
      "| time/               |          |\n",
      "|    episodes         | 48       |\n",
      "|    fps              | 353      |\n",
      "|    time_elapsed     | 120      |\n",
      "|    total_timesteps  | 42598    |\n",
      "| train/              |          |\n",
      "|    learning_rate    | 0.0001   |\n",
      "|    loss             | 0.00032  |\n",
      "|    n_updates        | 10399    |\n",
      "----------------------------------\n",
      "----------------------------------\n",
      "| rollout/            |          |\n",
      "|    exploration_rate | 0.01     |\n",
      "| time/               |          |\n",
      "|    episodes         | 52       |\n",
      "|    fps              | 351      |\n",
      "|    time_elapsed     | 131      |\n",
      "|    total_timesteps  | 46103    |\n",
      "| train/              |          |\n",
      "|    learning_rate    | 0.0001   |\n",
      "|    loss             | 0.00028  |\n",
      "|    n_updates        | 11275    |\n",
      "----------------------------------\n",
      "----------------------------------\n",
      "| rollout/            |          |\n",
      "|    exploration_rate | 0.01     |\n",
      "| time/               |          |\n",
      "|    episodes         | 56       |\n",
      "|    fps              | 351      |\n",
      "|    time_elapsed     | 141      |\n",
      "|    total_timesteps  | 49603    |\n",
      "| train/              |          |\n",
      "|    learning_rate    | 0.0001   |\n",
      "|    loss             | 0.000128 |\n",
      "|    n_updates        | 12150    |\n",
      "----------------------------------\n"
     ]
    }
   ],
   "source": [
    "model = DQN('MlpPolicy', env, verbose=1, buffer_size=10000, learning_starts=1000,\n",
    "            batch_size=32, gamma=0.99, target_update_interval=1000, train_freq=4,\n",
    "            gradient_steps=1, exploration_fraction=0.1, exploration_final_eps=0.01)\n",
    "model.learn(total_timesteps=50000)\n",
    "model.save('dqn_zaxxon.pkl')"
   ]
  },
  {
   "cell_type": "markdown",
   "metadata": {},
   "source": [
    "# Testing the model"
   ]
  },
  {
   "cell_type": "code",
   "execution_count": 34,
   "metadata": {},
   "outputs": [],
   "source": [
    "videoFolder = 'videos/'\n",
    "\n",
    "def makeRecEnv(envId: str, renderMode = 'rgb_array'):\n",
    "    env = gym.make(envId, render_mode=renderMode)\n",
    "    env = AtariPreprocessing(env, frame_skip=1)\n",
    "    env = FrameStack(env, 4)\n",
    "    env = Monitor(env)\n",
    "    \n",
    "    return env\n"
   ]
  },
  {
   "cell_type": "code",
   "execution_count": 35,
   "metadata": {},
   "outputs": [],
   "source": [
    "recording_env = DummyVecEnv([lambda: makeRecEnv(envId)])\n",
    "recording_env = VecVideoRecorder(recording_env, videoFolder, record_video_trigger=lambda x: x == 0, video_length=10000, name_prefix=\"dqn_zaxxon\")"
   ]
  },
  {
   "cell_type": "code",
   "execution_count": 36,
   "metadata": {},
   "outputs": [
    {
     "name": "stderr",
     "output_type": "stream",
     "text": [
      "/Users/zuzux/Documents/Uni/Labs/ARiSC/Lab3/arisc-lab3/lib/python3.11/site-packages/stable_baselines3/common/buffers.py:241: UserWarning: This system does not have apparently enough memory to store the complete replay buffer 2.26GB > 1.47GB\n",
      "  warnings.warn(\n",
      "/Users/zuzux/Documents/Uni/Labs/ARiSC/Lab3/arisc-lab3/lib/python3.11/site-packages/gymnasium/utils/passive_env_checker.py:335: UserWarning: \u001b[33mWARN: No render fps was declared in the environment (env.metadata['render_fps'] is None or not defined), rendering may occur at inconsistent fps.\u001b[0m\n",
      "  logger.warn(\n"
     ]
    },
    {
     "name": "stdout",
     "output_type": "stream",
     "text": [
      "Moviepy - Building video /Users/zuzux/Documents/Uni/Labs/ARiSC/Lab3/videos/dqn_zaxxon-step-0-to-step-10000.mp4.\n",
      "Moviepy - Writing video /Users/zuzux/Documents/Uni/Labs/ARiSC/Lab3/videos/dqn_zaxxon-step-0-to-step-10000.mp4\n",
      "\n"
     ]
    },
    {
     "name": "stderr",
     "output_type": "stream",
     "text": [
      "                                                                \r"
     ]
    },
    {
     "name": "stdout",
     "output_type": "stream",
     "text": [
      "Moviepy - Done !\n",
      "Moviepy - video ready /Users/zuzux/Documents/Uni/Labs/ARiSC/Lab3/videos/dqn_zaxxon-step-0-to-step-10000.mp4\n",
      "Moviepy - Building video /Users/zuzux/Documents/Uni/Labs/ARiSC/Lab3/videos/dqn_zaxxon-step-875-to-step-10875.mp4.\n",
      "Moviepy - Writing video /Users/zuzux/Documents/Uni/Labs/ARiSC/Lab3/videos/dqn_zaxxon-step-875-to-step-10875.mp4\n",
      "\n"
     ]
    },
    {
     "name": "stderr",
     "output_type": "stream",
     "text": [
      "                                                                \r"
     ]
    },
    {
     "name": "stdout",
     "output_type": "stream",
     "text": [
      "Moviepy - Done !\n",
      "Moviepy - video ready /Users/zuzux/Documents/Uni/Labs/ARiSC/Lab3/videos/dqn_zaxxon-step-875-to-step-10875.mp4\n",
      "Moviepy - Building video /Users/zuzux/Documents/Uni/Labs/ARiSC/Lab3/videos/dqn_zaxxon-step-1755-to-step-11755.mp4.\n",
      "Moviepy - Writing video /Users/zuzux/Documents/Uni/Labs/ARiSC/Lab3/videos/dqn_zaxxon-step-1755-to-step-11755.mp4\n",
      "\n"
     ]
    },
    {
     "name": "stderr",
     "output_type": "stream",
     "text": [
      "                                                                \r"
     ]
    },
    {
     "name": "stdout",
     "output_type": "stream",
     "text": [
      "Moviepy - Done !\n",
      "Moviepy - video ready /Users/zuzux/Documents/Uni/Labs/ARiSC/Lab3/videos/dqn_zaxxon-step-1755-to-step-11755.mp4\n",
      "Moviepy - Building video /Users/zuzux/Documents/Uni/Labs/ARiSC/Lab3/videos/dqn_zaxxon-step-2618-to-step-12618.mp4.\n",
      "Moviepy - Writing video /Users/zuzux/Documents/Uni/Labs/ARiSC/Lab3/videos/dqn_zaxxon-step-2618-to-step-12618.mp4\n",
      "\n"
     ]
    },
    {
     "name": "stderr",
     "output_type": "stream",
     "text": [
      "                                                                \r"
     ]
    },
    {
     "name": "stdout",
     "output_type": "stream",
     "text": [
      "Moviepy - Done !\n",
      "Moviepy - video ready /Users/zuzux/Documents/Uni/Labs/ARiSC/Lab3/videos/dqn_zaxxon-step-2618-to-step-12618.mp4\n",
      "Moviepy - Building video /Users/zuzux/Documents/Uni/Labs/ARiSC/Lab3/videos/dqn_zaxxon-step-3473-to-step-13473.mp4.\n",
      "Moviepy - Writing video /Users/zuzux/Documents/Uni/Labs/ARiSC/Lab3/videos/dqn_zaxxon-step-3473-to-step-13473.mp4\n",
      "\n"
     ]
    },
    {
     "name": "stderr",
     "output_type": "stream",
     "text": [
      "                                                                \r"
     ]
    },
    {
     "name": "stdout",
     "output_type": "stream",
     "text": [
      "Moviepy - Done !\n",
      "Moviepy - video ready /Users/zuzux/Documents/Uni/Labs/ARiSC/Lab3/videos/dqn_zaxxon-step-3473-to-step-13473.mp4\n",
      "Moviepy - Building video /Users/zuzux/Documents/Uni/Labs/ARiSC/Lab3/videos/dqn_zaxxon-step-4343-to-step-14343.mp4.\n",
      "Moviepy - Writing video /Users/zuzux/Documents/Uni/Labs/ARiSC/Lab3/videos/dqn_zaxxon-step-4343-to-step-14343.mp4\n",
      "\n"
     ]
    },
    {
     "name": "stderr",
     "output_type": "stream",
     "text": [
      "                                                                \r"
     ]
    },
    {
     "name": "stdout",
     "output_type": "stream",
     "text": [
      "Moviepy - Done !\n",
      "Moviepy - video ready /Users/zuzux/Documents/Uni/Labs/ARiSC/Lab3/videos/dqn_zaxxon-step-4343-to-step-14343.mp4\n",
      "Moviepy - Building video /Users/zuzux/Documents/Uni/Labs/ARiSC/Lab3/videos/dqn_zaxxon-step-5211-to-step-15211.mp4.\n",
      "Moviepy - Writing video /Users/zuzux/Documents/Uni/Labs/ARiSC/Lab3/videos/dqn_zaxxon-step-5211-to-step-15211.mp4\n",
      "\n"
     ]
    },
    {
     "name": "stderr",
     "output_type": "stream",
     "text": [
      "                                                                \r"
     ]
    },
    {
     "name": "stdout",
     "output_type": "stream",
     "text": [
      "Moviepy - Done !\n",
      "Moviepy - video ready /Users/zuzux/Documents/Uni/Labs/ARiSC/Lab3/videos/dqn_zaxxon-step-5211-to-step-15211.mp4\n",
      "Moviepy - Building video /Users/zuzux/Documents/Uni/Labs/ARiSC/Lab3/videos/dqn_zaxxon-step-6074-to-step-16074.mp4.\n",
      "Moviepy - Writing video /Users/zuzux/Documents/Uni/Labs/ARiSC/Lab3/videos/dqn_zaxxon-step-6074-to-step-16074.mp4\n",
      "\n"
     ]
    },
    {
     "name": "stderr",
     "output_type": "stream",
     "text": [
      "                                                                \r"
     ]
    },
    {
     "name": "stdout",
     "output_type": "stream",
     "text": [
      "Moviepy - Done !\n",
      "Moviepy - video ready /Users/zuzux/Documents/Uni/Labs/ARiSC/Lab3/videos/dqn_zaxxon-step-6074-to-step-16074.mp4\n",
      "Moviepy - Building video /Users/zuzux/Documents/Uni/Labs/ARiSC/Lab3/videos/dqn_zaxxon-step-6949-to-step-16949.mp4.\n",
      "Moviepy - Writing video /Users/zuzux/Documents/Uni/Labs/ARiSC/Lab3/videos/dqn_zaxxon-step-6949-to-step-16949.mp4\n",
      "\n"
     ]
    },
    {
     "name": "stderr",
     "output_type": "stream",
     "text": [
      "                                                                \r"
     ]
    },
    {
     "name": "stdout",
     "output_type": "stream",
     "text": [
      "Moviepy - Done !\n",
      "Moviepy - video ready /Users/zuzux/Documents/Uni/Labs/ARiSC/Lab3/videos/dqn_zaxxon-step-6949-to-step-16949.mp4\n",
      "Moviepy - Building video /Users/zuzux/Documents/Uni/Labs/ARiSC/Lab3/videos/dqn_zaxxon-step-7809-to-step-17809.mp4.\n",
      "Moviepy - Writing video /Users/zuzux/Documents/Uni/Labs/ARiSC/Lab3/videos/dqn_zaxxon-step-7809-to-step-17809.mp4\n",
      "\n"
     ]
    },
    {
     "name": "stderr",
     "output_type": "stream",
     "text": [
      "                                                                \r"
     ]
    },
    {
     "name": "stdout",
     "output_type": "stream",
     "text": [
      "Moviepy - Done !\n",
      "Moviepy - video ready /Users/zuzux/Documents/Uni/Labs/ARiSC/Lab3/videos/dqn_zaxxon-step-7809-to-step-17809.mp4\n",
      "Moviepy - Building video /Users/zuzux/Documents/Uni/Labs/ARiSC/Lab3/videos/dqn_zaxxon-step-8684-to-step-18684.mp4.\n",
      "Moviepy - Writing video /Users/zuzux/Documents/Uni/Labs/ARiSC/Lab3/videos/dqn_zaxxon-step-8684-to-step-18684.mp4\n",
      "\n"
     ]
    },
    {
     "name": "stderr",
     "output_type": "stream",
     "text": [
      "                                                                \r"
     ]
    },
    {
     "name": "stdout",
     "output_type": "stream",
     "text": [
      "Moviepy - Done !\n",
      "Moviepy - video ready /Users/zuzux/Documents/Uni/Labs/ARiSC/Lab3/videos/dqn_zaxxon-step-8684-to-step-18684.mp4\n",
      "Moviepy - Building video /Users/zuzux/Documents/Uni/Labs/ARiSC/Lab3/videos/dqn_zaxxon-step-9549-to-step-19549.mp4.\n",
      "Moviepy - Writing video /Users/zuzux/Documents/Uni/Labs/ARiSC/Lab3/videos/dqn_zaxxon-step-9549-to-step-19549.mp4\n",
      "\n"
     ]
    },
    {
     "name": "stderr",
     "output_type": "stream",
     "text": [
      "                                                                "
     ]
    },
    {
     "name": "stdout",
     "output_type": "stream",
     "text": [
      "Moviepy - Done !\n",
      "Moviepy - video ready /Users/zuzux/Documents/Uni/Labs/ARiSC/Lab3/videos/dqn_zaxxon-step-9549-to-step-19549.mp4\n"
     ]
    },
    {
     "name": "stderr",
     "output_type": "stream",
     "text": [
      "\r"
     ]
    }
   ],
   "source": [
    "modelPath = 'dqn_zaxxon.pkl'\n",
    "model = DQN.load(modelPath)\n",
    "obs = recording_env.reset()\n",
    "\n",
    "for _ in range(10000):\n",
    "    action, _states = model.predict(obs)\n",
    "    obs, rewards, dones, infos = recording_env.step(action)\n",
    "    \n",
    "    if dones:\n",
    "        obs = recording_env.reset()\n",
    "    \n",
    "recording_env.close()"
   ]
  },
  {
   "cell_type": "code",
   "execution_count": null,
   "metadata": {},
   "outputs": [],
   "source": []
  }
 ],
 "metadata": {
  "kernelspec": {
   "display_name": "arisc-lab3",
   "language": "python",
   "name": "python3"
  },
  "language_info": {
   "codemirror_mode": {
    "name": "ipython",
    "version": 3
   },
   "file_extension": ".py",
   "mimetype": "text/x-python",
   "name": "python",
   "nbconvert_exporter": "python",
   "pygments_lexer": "ipython3",
   "version": "3.11.6"
  }
 },
 "nbformat": 4,
 "nbformat_minor": 2
}
